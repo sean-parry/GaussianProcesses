{
 "cells": [
  {
   "cell_type": "markdown",
   "metadata": {},
   "source": [
    "# Just copying some gaussian processes for dummies code to try and figure out what i am doing wrong"
   ]
  },
  {
   "cell_type": "code",
   "execution_count": 2,
   "metadata": {},
   "outputs": [],
   "source": [
    "%%capture\n",
    "%pip install numpy\n",
    "%pip install matplotlib"
   ]
  },
  {
   "cell_type": "code",
   "execution_count": 27,
   "metadata": {},
   "outputs": [
    {
     "name": "stderr",
     "output_type": "stream",
     "text": [
      "C:\\Users\\seanp\\AppData\\Local\\Temp\\ipykernel_3016\\4291062105.py:49: RuntimeWarning: invalid value encountered in sqrt\n",
      "  stdv = np.sqrt(s2)\n"
     ]
    },
    {
     "ename": "LinAlgError",
     "evalue": "Matrix is not positive definite",
     "output_type": "error",
     "traceback": [
      "\u001b[1;31m---------------------------------------------------------------------------\u001b[0m",
      "\u001b[1;31mLinAlgError\u001b[0m                               Traceback (most recent call last)",
      "Cell \u001b[1;32mIn[27], line 51\u001b[0m\n\u001b[0;32m     49\u001b[0m stdv \u001b[38;5;241m=\u001b[39m np\u001b[38;5;241m.\u001b[39msqrt(s2)\n\u001b[0;32m     50\u001b[0m \u001b[38;5;66;03m# Draw samples from the posterior at our test points.\u001b[39;00m\n\u001b[1;32m---> 51\u001b[0m covar_matrix \u001b[38;5;241m=\u001b[39m \u001b[43mnp\u001b[49m\u001b[38;5;241;43m.\u001b[39;49m\u001b[43mlinalg\u001b[49m\u001b[38;5;241;43m.\u001b[39;49m\u001b[43mcholesky\u001b[49m\u001b[43m(\u001b[49m\u001b[43mK_xx\u001b[49m\u001b[43m \u001b[49m\u001b[38;5;241;43m+\u001b[39;49m\u001b[43m \u001b[49m\u001b[38;5;241;43m1e-6\u001b[39;49m\u001b[38;5;241;43m*\u001b[39;49m\u001b[43mnp\u001b[49m\u001b[38;5;241;43m.\u001b[39;49m\u001b[43meye\u001b[49m\u001b[43m(\u001b[49m\u001b[43mn\u001b[49m\u001b[43m)\u001b[49m\u001b[43m \u001b[49m\u001b[38;5;241;43m-\u001b[39;49m\u001b[43m \u001b[49m\u001b[43mnp\u001b[49m\u001b[38;5;241;43m.\u001b[39;49m\u001b[43mdot\u001b[49m\u001b[43m(\u001b[49m\u001b[43mLk\u001b[49m\u001b[38;5;241;43m.\u001b[39;49m\u001b[43mT\u001b[49m\u001b[43m,\u001b[49m\u001b[43m \u001b[49m\u001b[43mLk\u001b[49m\u001b[43m)\u001b[49m\u001b[43m)\u001b[49m\n\u001b[0;32m     52\u001b[0m f_post \u001b[38;5;241m=\u001b[39m mu\u001b[38;5;241m.\u001b[39mreshape(\u001b[38;5;241m-\u001b[39m\u001b[38;5;241m1\u001b[39m,\u001b[38;5;241m1\u001b[39m) \u001b[38;5;241m+\u001b[39m np\u001b[38;5;241m.\u001b[39mdot(covar_matrix, np\u001b[38;5;241m.\u001b[39mrandom\u001b[38;5;241m.\u001b[39mnormal(size\u001b[38;5;241m=\u001b[39m(n,\u001b[38;5;241m3\u001b[39m)))\n\u001b[0;32m     54\u001b[0m plt\u001b[38;5;241m.\u001b[39mplot(Xtrain, ytrain, \u001b[38;5;124m'\u001b[39m\u001b[38;5;124mbs\u001b[39m\u001b[38;5;124m'\u001b[39m, ms\u001b[38;5;241m=\u001b[39m\u001b[38;5;241m8\u001b[39m)\n",
      "File \u001b[1;32mc:\\Users\\seanp\\OneDrive\\Desktop\\my_repos\\GaussianProcesses\\.venv\\Lib\\site-packages\\numpy\\linalg\\_linalg.py:848\u001b[0m, in \u001b[0;36mcholesky\u001b[1;34m(a, upper)\u001b[0m\n\u001b[0;32m    845\u001b[0m signature \u001b[38;5;241m=\u001b[39m \u001b[38;5;124m'\u001b[39m\u001b[38;5;124mD->D\u001b[39m\u001b[38;5;124m'\u001b[39m \u001b[38;5;28;01mif\u001b[39;00m isComplexType(t) \u001b[38;5;28;01melse\u001b[39;00m \u001b[38;5;124m'\u001b[39m\u001b[38;5;124md->d\u001b[39m\u001b[38;5;124m'\u001b[39m\n\u001b[0;32m    846\u001b[0m \u001b[38;5;28;01mwith\u001b[39;00m errstate(call\u001b[38;5;241m=\u001b[39m_raise_linalgerror_nonposdef, invalid\u001b[38;5;241m=\u001b[39m\u001b[38;5;124m'\u001b[39m\u001b[38;5;124mcall\u001b[39m\u001b[38;5;124m'\u001b[39m,\n\u001b[0;32m    847\u001b[0m               over\u001b[38;5;241m=\u001b[39m\u001b[38;5;124m'\u001b[39m\u001b[38;5;124mignore\u001b[39m\u001b[38;5;124m'\u001b[39m, divide\u001b[38;5;241m=\u001b[39m\u001b[38;5;124m'\u001b[39m\u001b[38;5;124mignore\u001b[39m\u001b[38;5;124m'\u001b[39m, under\u001b[38;5;241m=\u001b[39m\u001b[38;5;124m'\u001b[39m\u001b[38;5;124mignore\u001b[39m\u001b[38;5;124m'\u001b[39m):\n\u001b[1;32m--> 848\u001b[0m     r \u001b[38;5;241m=\u001b[39m \u001b[43mgufunc\u001b[49m\u001b[43m(\u001b[49m\u001b[43ma\u001b[49m\u001b[43m,\u001b[49m\u001b[43m \u001b[49m\u001b[43msignature\u001b[49m\u001b[38;5;241;43m=\u001b[39;49m\u001b[43msignature\u001b[49m\u001b[43m)\u001b[49m\n\u001b[0;32m    849\u001b[0m \u001b[38;5;28;01mreturn\u001b[39;00m wrap(r\u001b[38;5;241m.\u001b[39mastype(result_t, copy\u001b[38;5;241m=\u001b[39m\u001b[38;5;28;01mFalse\u001b[39;00m))\n",
      "File \u001b[1;32mc:\\Users\\seanp\\OneDrive\\Desktop\\my_repos\\GaussianProcesses\\.venv\\Lib\\site-packages\\numpy\\linalg\\_linalg.py:107\u001b[0m, in \u001b[0;36m_raise_linalgerror_nonposdef\u001b[1;34m(err, flag)\u001b[0m\n\u001b[0;32m    106\u001b[0m \u001b[38;5;28;01mdef\u001b[39;00m \u001b[38;5;21m_raise_linalgerror_nonposdef\u001b[39m(err, flag):\n\u001b[1;32m--> 107\u001b[0m     \u001b[38;5;28;01mraise\u001b[39;00m LinAlgError(\u001b[38;5;124m\"\u001b[39m\u001b[38;5;124mMatrix is not positive definite\u001b[39m\u001b[38;5;124m\"\u001b[39m)\n",
      "\u001b[1;31mLinAlgError\u001b[0m: Matrix is not positive definite"
     ]
    }
   ],
   "source": [
    "import numpy as np\n",
    "import matplotlib.pyplot as plt\n",
    "import math\n",
    "\n",
    "def gauss_corr(l, a_vec, b_vec):\n",
    "    # a and b are points they could be scalar or vector\n",
    "    exponent = 0\n",
    "\n",
    "    # i actually don't think i should be adding the exponent\n",
    "    for a,b in zip(a_vec, b_vec):\n",
    "        exponent += -(1/2*l)*(a-b)**2\n",
    "        \n",
    "    return (math.e)**exponent\n",
    "\n",
    "#this sends of x1x1 x1x2 and so on to the guass_corr calc\n",
    "# for 1 input x this isn't all that important but higher dims\n",
    "# will benifit from this expected form [[x1,x2],[x1,x2]]\n",
    "def gauss_corr_handler(X1,X2, l=0.1):\n",
    "    R = []\n",
    "    X1_shape = (X1.shape)[0]\n",
    "    X2_shape = (X2.shape)[0]\n",
    "    R = np.zeros((X1_shape,X2_shape))\n",
    "    for i, x_vec_1 in enumerate(X1):\n",
    "        for j, x_vec_2 in enumerate(X2):\n",
    "            R[i][j] = gauss_corr(l,x_vec_1,x_vec_2)\n",
    "    return R\n",
    "\n",
    "n =35\n",
    "\n",
    "# Noiseless training data\n",
    "Xtrain = (np.random.rand(n)*2*(math.pi)).reshape(-1,1)\n",
    "ytrain = np.sin(Xtrain)\n",
    "Xtest = np.arange(0,2*np.pi,0.1).reshape(-1,1)[:35]\n",
    "K_xx = gauss_corr_handler(Xtrain, Xtrain, l=0.1)\n",
    "\n",
    "# Apply the kernel function to our training points\n",
    "s_d = 0.01\n",
    "covar_xx = np.linalg.cholesky(K_xx + s_d*np.identity(K_xx.shape[1]))\n",
    "\n",
    "# Compute the mean at our test points.\n",
    "#(were k_xs is K_xx' (s as in x star, so test points))\n",
    "K_xs = gauss_corr_handler(Xtrain, Xtest, l=0.01)\n",
    "Lk = np.linalg.solve(covar_xx, K_xs)\n",
    "mu = np.dot(Lk.T, np.linalg.solve(covar_xx, ytrain)).reshape((Xtest.shape[0],))\n",
    "\n",
    "\n",
    "# Compute the standard deviation so we can plot it\n",
    "s2 = np.diag(K_xx) - np.sum(Lk**2, axis=0)\n",
    "stdv = np.sqrt(s2)\n",
    "# Draw samples from the posterior at our test points.\n",
    "covar_xx = np.linalg.cholesky(K_xx + 1e-6*np.eye(n) - np.dot(Lk.T, Lk))\n",
    "f_post = mu.reshape(-1,1) + np.dot(covar_xx, np.random.normal(size=(n,3)))\n",
    "\n",
    "plt.plot(Xtrain, ytrain, 'bs', ms=8)\n",
    "plt.plot(Xtest, f_post)\n",
    "plt.gca().fill_between(Xtest.flat, mu-2*stdv, mu+2*stdv, color=\"#dddddd\")\n",
    "plt.plot(Xtest, mu, 'r--', lw=2)\n",
    "plt.axis([-5, 5, -3, 3])\n",
    "plt.title('Three samples from the GP posterior')\n",
    "plt.show()"
   ]
  }
 ],
 "metadata": {
  "kernelspec": {
   "display_name": ".venv",
   "language": "python",
   "name": "python3"
  },
  "language_info": {
   "codemirror_mode": {
    "name": "ipython",
    "version": 3
   },
   "file_extension": ".py",
   "mimetype": "text/x-python",
   "name": "python",
   "nbconvert_exporter": "python",
   "pygments_lexer": "ipython3",
   "version": "3.12.0"
  }
 },
 "nbformat": 4,
 "nbformat_minor": 2
}
