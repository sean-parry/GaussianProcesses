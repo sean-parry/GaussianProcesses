{
 "cells": [
  {
   "cell_type": "markdown",
   "metadata": {},
   "source": [
    "# attempt 2\n",
    "\n",
    "something weird is happending with my y values in attempt 1 that is throwing off the calc not really sure what is is so im going to keep my code all in one code block this time so im not overwriting vars"
   ]
  },
  {
   "cell_type": "code",
   "execution_count": 2,
   "metadata": {},
   "outputs": [],
   "source": [
    "%%capture output\n",
    "%pip install numpy\n",
    "%pip install matplotlib\n",
    "%pip install math"
   ]
  },
  {
   "cell_type": "code",
   "execution_count": 34,
   "metadata": {},
   "outputs": [
    {
     "name": "stdout",
     "output_type": "stream",
     "text": [
      "(10, 10) (10, 10)\n",
      "(10, 10)\n",
      "(10,)\n",
      "[-0.28219267]\n",
      "sum y[0.3735832]\n",
      "m_hat: [-0.18111663]\n"
     ]
    },
    {
     "ename": "ValueError",
     "evalue": "x and y must have same first dimension, but have shapes (10, 1) and (1,)",
     "output_type": "error",
     "traceback": [
      "\u001b[1;31m---------------------------------------------------------------------------\u001b[0m",
      "\u001b[1;31mValueError\u001b[0m                                Traceback (most recent call last)",
      "Cell \u001b[1;32mIn[34], line 98\u001b[0m\n\u001b[0;32m     93\u001b[0m \u001b[38;5;66;03m# also getting weird plots on X, y which is fine above\u001b[39;00m\n\u001b[0;32m     94\u001b[0m \u001b[38;5;66;03m# i guess i have messed up the dimensions\u001b[39;00m\n\u001b[0;32m     95\u001b[0m \n\u001b[0;32m     96\u001b[0m \u001b[38;5;66;03m# ok something has happened to y? does it happen before or after the training?\u001b[39;00m\n\u001b[0;32m     97\u001b[0m fig, ax \u001b[38;5;241m=\u001b[39m plt\u001b[38;5;241m.\u001b[39msubplots(\u001b[38;5;241m3\u001b[39m)\n\u001b[1;32m---> 98\u001b[0m \u001b[43max\u001b[49m\u001b[43m[\u001b[49m\u001b[38;5;241;43m0\u001b[39;49m\u001b[43m]\u001b[49m\u001b[38;5;241;43m.\u001b[39;49m\u001b[43mplot\u001b[49m\u001b[43m(\u001b[49m\u001b[43mX\u001b[49m\u001b[43m,\u001b[49m\u001b[43mM_hat\u001b[49m\u001b[43m,\u001b[49m\u001b[38;5;124;43m'\u001b[39;49m\u001b[38;5;124;43mo\u001b[39;49m\u001b[38;5;124;43m'\u001b[39;49m\u001b[43m)\u001b[49m\n\u001b[0;32m     99\u001b[0m ax[\u001b[38;5;241m1\u001b[39m]\u001b[38;5;241m.\u001b[39mplot(X,y,\u001b[38;5;124m'\u001b[39m\u001b[38;5;124mo\u001b[39m\u001b[38;5;124m'\u001b[39m)\n\u001b[0;32m    100\u001b[0m ax[\u001b[38;5;241m2\u001b[39m]\u001b[38;5;241m.\u001b[39mplot(X,some_unknown_function(X),\u001b[38;5;124m'\u001b[39m\u001b[38;5;124mo\u001b[39m\u001b[38;5;124m'\u001b[39m)\n",
      "File \u001b[1;32mc:\\Users\\seanp\\OneDrive\\Desktop\\my_repos\\GaussianProcesses\\.venv\\Lib\\site-packages\\matplotlib\\axes\\_axes.py:1779\u001b[0m, in \u001b[0;36mAxes.plot\u001b[1;34m(self, scalex, scaley, data, *args, **kwargs)\u001b[0m\n\u001b[0;32m   1536\u001b[0m \u001b[38;5;250m\u001b[39m\u001b[38;5;124;03m\"\"\"\u001b[39;00m\n\u001b[0;32m   1537\u001b[0m \u001b[38;5;124;03mPlot y versus x as lines and/or markers.\u001b[39;00m\n\u001b[0;32m   1538\u001b[0m \n\u001b[1;32m   (...)\u001b[0m\n\u001b[0;32m   1776\u001b[0m \u001b[38;5;124;03m(``'green'``) or hex strings (``'#008000'``).\u001b[39;00m\n\u001b[0;32m   1777\u001b[0m \u001b[38;5;124;03m\"\"\"\u001b[39;00m\n\u001b[0;32m   1778\u001b[0m kwargs \u001b[38;5;241m=\u001b[39m cbook\u001b[38;5;241m.\u001b[39mnormalize_kwargs(kwargs, mlines\u001b[38;5;241m.\u001b[39mLine2D)\n\u001b[1;32m-> 1779\u001b[0m lines \u001b[38;5;241m=\u001b[39m [\u001b[38;5;241m*\u001b[39m\u001b[38;5;28mself\u001b[39m\u001b[38;5;241m.\u001b[39m_get_lines(\u001b[38;5;28mself\u001b[39m, \u001b[38;5;241m*\u001b[39margs, data\u001b[38;5;241m=\u001b[39mdata, \u001b[38;5;241m*\u001b[39m\u001b[38;5;241m*\u001b[39mkwargs)]\n\u001b[0;32m   1780\u001b[0m \u001b[38;5;28;01mfor\u001b[39;00m line \u001b[38;5;129;01min\u001b[39;00m lines:\n\u001b[0;32m   1781\u001b[0m     \u001b[38;5;28mself\u001b[39m\u001b[38;5;241m.\u001b[39madd_line(line)\n",
      "File \u001b[1;32mc:\\Users\\seanp\\OneDrive\\Desktop\\my_repos\\GaussianProcesses\\.venv\\Lib\\site-packages\\matplotlib\\axes\\_base.py:296\u001b[0m, in \u001b[0;36m_process_plot_var_args.__call__\u001b[1;34m(self, axes, data, *args, **kwargs)\u001b[0m\n\u001b[0;32m    294\u001b[0m     this \u001b[38;5;241m+\u001b[39m\u001b[38;5;241m=\u001b[39m args[\u001b[38;5;241m0\u001b[39m],\n\u001b[0;32m    295\u001b[0m     args \u001b[38;5;241m=\u001b[39m args[\u001b[38;5;241m1\u001b[39m:]\n\u001b[1;32m--> 296\u001b[0m \u001b[38;5;28;01myield from\u001b[39;00m \u001b[38;5;28;43mself\u001b[39;49m\u001b[38;5;241;43m.\u001b[39;49m\u001b[43m_plot_args\u001b[49m\u001b[43m(\u001b[49m\n\u001b[0;32m    297\u001b[0m \u001b[43m    \u001b[49m\u001b[43maxes\u001b[49m\u001b[43m,\u001b[49m\u001b[43m \u001b[49m\u001b[43mthis\u001b[49m\u001b[43m,\u001b[49m\u001b[43m \u001b[49m\u001b[43mkwargs\u001b[49m\u001b[43m,\u001b[49m\u001b[43m \u001b[49m\u001b[43mambiguous_fmt_datakey\u001b[49m\u001b[38;5;241;43m=\u001b[39;49m\u001b[43mambiguous_fmt_datakey\u001b[49m\u001b[43m)\u001b[49m\n",
      "File \u001b[1;32mc:\\Users\\seanp\\OneDrive\\Desktop\\my_repos\\GaussianProcesses\\.venv\\Lib\\site-packages\\matplotlib\\axes\\_base.py:486\u001b[0m, in \u001b[0;36m_process_plot_var_args._plot_args\u001b[1;34m(self, axes, tup, kwargs, return_kwargs, ambiguous_fmt_datakey)\u001b[0m\n\u001b[0;32m    483\u001b[0m     axes\u001b[38;5;241m.\u001b[39myaxis\u001b[38;5;241m.\u001b[39mupdate_units(y)\n\u001b[0;32m    485\u001b[0m \u001b[38;5;28;01mif\u001b[39;00m x\u001b[38;5;241m.\u001b[39mshape[\u001b[38;5;241m0\u001b[39m] \u001b[38;5;241m!=\u001b[39m y\u001b[38;5;241m.\u001b[39mshape[\u001b[38;5;241m0\u001b[39m]:\n\u001b[1;32m--> 486\u001b[0m     \u001b[38;5;28;01mraise\u001b[39;00m \u001b[38;5;167;01mValueError\u001b[39;00m(\u001b[38;5;124mf\u001b[39m\u001b[38;5;124m\"\u001b[39m\u001b[38;5;124mx and y must have same first dimension, but \u001b[39m\u001b[38;5;124m\"\u001b[39m\n\u001b[0;32m    487\u001b[0m                      \u001b[38;5;124mf\u001b[39m\u001b[38;5;124m\"\u001b[39m\u001b[38;5;124mhave shapes \u001b[39m\u001b[38;5;132;01m{\u001b[39;00mx\u001b[38;5;241m.\u001b[39mshape\u001b[38;5;132;01m}\u001b[39;00m\u001b[38;5;124m and \u001b[39m\u001b[38;5;132;01m{\u001b[39;00my\u001b[38;5;241m.\u001b[39mshape\u001b[38;5;132;01m}\u001b[39;00m\u001b[38;5;124m\"\u001b[39m)\n\u001b[0;32m    488\u001b[0m \u001b[38;5;28;01mif\u001b[39;00m x\u001b[38;5;241m.\u001b[39mndim \u001b[38;5;241m>\u001b[39m \u001b[38;5;241m2\u001b[39m \u001b[38;5;129;01mor\u001b[39;00m y\u001b[38;5;241m.\u001b[39mndim \u001b[38;5;241m>\u001b[39m \u001b[38;5;241m2\u001b[39m:\n\u001b[0;32m    489\u001b[0m     \u001b[38;5;28;01mraise\u001b[39;00m \u001b[38;5;167;01mValueError\u001b[39;00m(\u001b[38;5;124mf\u001b[39m\u001b[38;5;124m\"\u001b[39m\u001b[38;5;124mx and y can be no greater than 2D, but have \u001b[39m\u001b[38;5;124m\"\u001b[39m\n\u001b[0;32m    490\u001b[0m                      \u001b[38;5;124mf\u001b[39m\u001b[38;5;124m\"\u001b[39m\u001b[38;5;124mshapes \u001b[39m\u001b[38;5;132;01m{\u001b[39;00mx\u001b[38;5;241m.\u001b[39mshape\u001b[38;5;132;01m}\u001b[39;00m\u001b[38;5;124m and \u001b[39m\u001b[38;5;132;01m{\u001b[39;00my\u001b[38;5;241m.\u001b[39mshape\u001b[38;5;132;01m}\u001b[39;00m\u001b[38;5;124m\"\u001b[39m)\n",
      "\u001b[1;31mValueError\u001b[0m: x and y must have same first dimension, but have shapes (10, 1) and (1,)"
     ]
    },
    {
     "data": {
      "image/png": "[encoded data removed]",
      "text/plain": [
       "<Figure size 640x480 with 1 Axes>"
      ]
     },
     "metadata": {},
     "output_type": "display_data"
    },
    {
     "data": {
      "image/png": "[encoded data removed]",
      "text/plain": [
       "<Figure size 640x480 with 3 Axes>"
      ]
     },
     "metadata": {},
     "output_type": "display_data"
    }
   ],
   "source": [
    "import numpy as np\n",
    "import matplotlib.pyplot as plt\n",
    "import math\n",
    "\n",
    "def some_unknown_function(X):\n",
    "    return np.sin(X)\n",
    "\n",
    "def gauss_corr(l, a_vec, b_vec):\n",
    "    # a and b are points they could be scalar or vector\n",
    "    exponent = 0\n",
    "\n",
    "    # i actually don't think i should be adding the exponent\n",
    "    for a,b in zip(a_vec, b_vec):\n",
    "        exponent += -(1/2*l)*(a-b)**2\n",
    "        \n",
    "    return (math.e)**exponent\n",
    "\n",
    "#this sends of x1x1 x1x2 and so on to the guass_corr calc\n",
    "# for 1 input x this isn't all that important but higher dims\n",
    "# will benifit from this expected form [[x1,x2],[x1,x2]]\n",
    "def gauss_corr_handler(X, l=0.1):\n",
    "    R = []\n",
    "    X = np.array(X)\n",
    "    X_shape = (X.shape)[0]\n",
    "    R = np.zeros((X_shape,X_shape))\n",
    "    for i, x_vec_1 in enumerate(X):\n",
    "        for j, x_vec_2 in enumerate(X):\n",
    "            R[i][j] = gauss_corr(l,x_vec_1,x_vec_2)\n",
    "    return R\n",
    "\n",
    "\n",
    "X = np.random.rand(10)*2*(math.pi)\n",
    "# makes X the correct shape for the handler\n",
    "# altho if x goes up in dims this is going to cause issues\n",
    "# should be (-1,) but then my iterator won't work\n",
    "X = X.reshape(-1,1)\n",
    "y = some_unknown_function(X)\n",
    "R = gauss_corr_handler(X, l=0.1)\n",
    "plt.imshow(R)\n",
    "\n",
    "# ok so now we want to find M which for this case should be \n",
    "# n*1 bc our output dimension is one and we have n inputs\n",
    "\n",
    "\n",
    "# R needs to be multiplited by some s_d vector i'm going to\n",
    "# just use ones but this is a hyperparam that should be tuned\n",
    "\n",
    "R = np.array(R)\n",
    "\n",
    "# ok i don't know if s_d should be a vector that i then square\n",
    "# to get an n by n var matrix, but then surely that would \n",
    "# throw off the correlation matrix and mess stuff up vs just a\n",
    "# single scalar which makes way more sense in terms of the matrix maths\n",
    "# somewhere else i saw identitity?\n",
    "\n",
    "s_d = 0.1\n",
    "sigma_matrix = R+np.identity(R.shape[0])*s_d # should be identitiy fix this make it work\n",
    "print(R.shape,sigma_matrix.shape)\n",
    "#uses a 1 by n vector:\n",
    "one_n = np.ones((sigma_matrix.shape)[0])\n",
    "# odn't put -1,1 leave second one black otherwise a lot of mat\n",
    "# maths in numpy doesn't work\n",
    "one_n_transpose = one_n.reshape(-1,)\n",
    "sigma_matrix_inv = np.linalg.inv(sigma_matrix)\n",
    "print(sigma_matrix_inv.shape)\n",
    "print(one_n_transpose.shape)\n",
    "\n",
    "# print below showd that the above code is correct\n",
    "# print(one_n ,one_n_transpose)\n",
    "y = y.reshape(-1,1)\n",
    "# print(y.shape)\n",
    "# a/b = a*(b**-1)\n",
    "\n",
    "M_denom_step = np.matmul(one_n_transpose,sigma_matrix_inv)\n",
    "M_denom = np.matmul(M_denom_step,one_n)\n",
    "\n",
    "M_hat_step_1 = np.matmul(one_n_transpose,sigma_matrix_inv)\n",
    "M_hat_step_2 = np.matmul(M_hat_step_1,y)\n",
    "\n",
    "try:\n",
    "    M_denom_inv = np.linalg.inv(M_denom)\n",
    "    M_hat = np.matmul(M_hat_step_2,M_denom_inv)\n",
    "except:\n",
    "    print(M_hat_step_2)\n",
    "    M_hat = M_hat_step_2/M_denom\n",
    "\n",
    "print(f'sum y:{sum(y)}')\n",
    "\n",
    "# this np.matmul(a,b,c) can't be overloaded with more matricies c defined the output so the output is written to C ffs\n",
    "\n",
    "# the values of M_hat are way too big idk if this is an issue\n",
    "# with my heyperparameter selection, or whether it is something \n",
    "# else like my maths actually being wrong\n",
    "print(f'm_hat: {M_hat}')\n",
    "\n",
    "# also getting weird plots on X, y which is fine above\n",
    "# i guess i have messed up the dimensions\n",
    "\n",
    "# ok something has happened to y? does it happen before or after the training?\n",
    "fig, ax = plt.subplots(3)\n",
    "ax[0].plot(X,M_hat,'o')\n",
    "ax[1].plot(X,y,'o')\n",
    "ax[2].plot(X,some_unknown_function(X),'o')\n",
    "\n",
    "plt.show()\n",
    "\n",
    "\n",
    "print(some_unknown_function(X))\n"
   ]
  },
  {
   "cell_type": "markdown",
   "metadata": {},
   "source": [
    "so the problem is related to the standard deviation 0 makes y random and a small value makes y have smaller period while sticking close to a sine wave not really sure were but i must be making, i think the problem is the try except catch?????"
   ]
  }
 ],
 "metadata": {
  "kernelspec": {
   "display_name": ".venv",
   "language": "python",
   "name": "python3"
  },
  "language_info": {
   "codemirror_mode": {
    "name": "ipython",
    "version": 3
   },
   "file_extension": ".py",
   "mimetype": "text/x-python",
   "name": "python",
   "nbconvert_exporter": "python",
   "pygments_lexer": "ipython3",
   "version": "3.12.0"
  }
 },
 "nbformat": 4,
 "nbformat_minor": 2
}
