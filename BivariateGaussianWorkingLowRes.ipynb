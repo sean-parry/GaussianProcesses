{
 "cells": [
  {
   "cell_type": "markdown",
   "metadata": {},
   "source": [
    "# multivariate gaussian case\n",
    "\n",
    "considering bivariate because it will be quciker implement a heatmap for the pdf"
   ]
  },
  {
   "cell_type": "markdown",
   "metadata": {},
   "source": [
    "![image](images\\multivariate_gaussian_euqation.png)"
   ]
  },
  {
   "cell_type": "code",
   "execution_count": 14,
   "metadata": {},
   "outputs": [
    {
     "name": "stdout",
     "output_type": "stream",
     "text": [
      "Collecting numpy\n",
      "  Obtaining dependency information for numpy from https://files.pythonhosted.org/packages/4c/79/73735a6a5dad6059c085f240a4e74c9270feccd2bc66e4d31b5ca01d329c/numpy-2.1.2-cp312-cp312-win_amd64.whl.metadata\n",
      "  Downloading numpy-2.1.2-cp312-cp312-win_amd64.whl.metadata (59 kB)\n",
      "     ---------------------------------------- 0.0/59.7 kB ? eta -:--:--\n",
      "     ------ --------------------------------- 10.2/59.7 kB ? eta -:--:--\n",
      "     -------------------------------- ----- 51.2/59.7 kB 525.1 kB/s eta 0:00:01\n",
      "     -------------------------------------- 59.7/59.7 kB 526.6 kB/s eta 0:00:00\n",
      "Downloading numpy-2.1.2-cp312-cp312-win_amd64.whl (12.6 MB)\n",
      "   ---------------------------------------- 0.0/12.6 MB ? eta -:--:--\n",
      "   - -------------------------------------- 0.5/12.6 MB 16.5 MB/s eta 0:00:01\n",
      "   ------ --------------------------------- 1.9/12.6 MB 24.7 MB/s eta 0:00:01\n",
      "   ----------- ---------------------------- 3.8/12.6 MB 30.0 MB/s eta 0:00:01\n",
      "   ------------------- -------------------- 6.0/12.6 MB 35.0 MB/s eta 0:00:01\n",
      "   ---------------------------- ----------- 9.0/12.6 MB 41.1 MB/s eta 0:00:01\n",
      "   -------------------------------------- - 12.0/12.6 MB 54.7 MB/s eta 0:00:01\n",
      "   ---------------------------------------- 12.6/12.6 MB 50.1 MB/s eta 0:00:00\n",
      "Installing collected packages: numpy\n",
      "Successfully installed numpy-2.1.2\n",
      "Note: you may need to restart the kernel to use updated packages.\n"
     ]
    },
    {
     "name": "stderr",
     "output_type": "stream",
     "text": [
      "  WARNING: The scripts f2py.exe and numpy-config.exe are installed in 'c:\\Users\\seanp\\AppData\\Local\\Programs\\Python\\Python312\\Scripts' which is not on PATH.\n",
      "  Consider adding this directory to PATH or, if you prefer to suppress this warning, use --no-warn-script-location.\n",
      "\n",
      "[notice] A new release of pip is available: 23.2.1 -> 24.2\n",
      "[notice] To update, run: python.exe -m pip install --upgrade pip\n"
     ]
    },
    {
     "name": "stdout",
     "output_type": "stream",
     "text": [
      "Collecting matplotlib\n",
      "  Obtaining dependency information for matplotlib from https://files.pythonhosted.org/packages/d2/92/c2b9464a0562feb6ae780bdc152364810862e07ef5e6affa2b7686028db2/matplotlib-3.9.2-cp312-cp312-win_amd64.whl.metadata\n",
      "  Downloading matplotlib-3.9.2-cp312-cp312-win_amd64.whl.metadata (11 kB)\n",
      "Collecting contourpy>=1.0.1 (from matplotlib)\n",
      "  Obtaining dependency information for contourpy>=1.0.1 from https://files.pythonhosted.org/packages/0c/89/9830ba00d88e43d15e53d64931e66b8792b46eb25e2050a88fec4a0df3d5/contourpy-1.3.0-cp312-cp312-win_amd64.whl.metadata\n",
      "  Downloading contourpy-1.3.0-cp312-cp312-win_amd64.whl.metadata (5.4 kB)\n",
      "Collecting cycler>=0.10 (from matplotlib)\n",
      "  Obtaining dependency information for cycler>=0.10 from https://files.pythonhosted.org/packages/e7/05/c19819d5e3d95294a6f5947fb9b9629efb316b96de511b418c53d245aae6/cycler-0.12.1-py3-none-any.whl.metadata\n",
      "  Downloading cycler-0.12.1-py3-none-any.whl.metadata (3.8 kB)\n",
      "Collecting fonttools>=4.22.0 (from matplotlib)\n",
      "  Obtaining dependency information for fonttools>=4.22.0 from https://files.pythonhosted.org/packages/b9/0a/a57caaff3bc880779317cb157e5b49dc47fad54effe027016abd355b0651/fonttools-4.54.1-cp312-cp312-win_amd64.whl.metadata\n",
      "  Downloading fonttools-4.54.1-cp312-cp312-win_amd64.whl.metadata (167 kB)\n",
      "     ---------------------------------------- 0.0/167.0 kB ? eta -:--:--\n",
      "     ------- ------------------------------- 30.7/167.0 kB 1.3 MB/s eta 0:00:01\n",
      "     -------------------------------------- 167.0/167.0 kB 3.3 MB/s eta 0:00:00\n",
      "Collecting kiwisolver>=1.3.1 (from matplotlib)\n",
      "  Obtaining dependency information for kiwisolver>=1.3.1 from https://files.pythonhosted.org/packages/19/93/c05f0a6d825c643779fc3c70876bff1ac221f0e31e6f701f0e9578690d70/kiwisolver-1.4.7-cp312-cp312-win_amd64.whl.metadata\n",
      "  Downloading kiwisolver-1.4.7-cp312-cp312-win_amd64.whl.metadata (6.4 kB)\n",
      "Requirement already satisfied: numpy>=1.23 in c:\\users\\seanp\\appdata\\local\\programs\\python\\python312\\lib\\site-packages (from matplotlib) (2.1.2)\n",
      "Requirement already satisfied: packaging>=20.0 in c:\\users\\seanp\\appdata\\roaming\\python\\python312\\site-packages (from matplotlib) (24.0)\n",
      "Collecting pillow>=8 (from matplotlib)\n",
      "  Obtaining dependency information for pillow>=8 from https://files.pythonhosted.org/packages/74/0a/d4ce3c44bca8635bd29a2eab5aa181b654a734a29b263ca8efe013beea98/pillow-10.4.0-cp312-cp312-win_amd64.whl.metadata\n",
      "  Downloading pillow-10.4.0-cp312-cp312-win_amd64.whl.metadata (9.3 kB)\n",
      "Collecting pyparsing>=2.3.1 (from matplotlib)\n",
      "  Obtaining dependency information for pyparsing>=2.3.1 from https://files.pythonhosted.org/packages/e5/0c/0e3c05b1c87bb6a1c76d281b0f35e78d2d80ac91b5f8f524cebf77f51049/pyparsing-3.1.4-py3-none-any.whl.metadata\n",
      "  Downloading pyparsing-3.1.4-py3-none-any.whl.metadata (5.1 kB)\n",
      "Requirement already satisfied: python-dateutil>=2.7 in c:\\users\\seanp\\appdata\\roaming\\python\\python312\\site-packages (from matplotlib) (2.9.0.post0)\n",
      "Requirement already satisfied: six>=1.5 in c:\\users\\seanp\\appdata\\roaming\\python\\python312\\site-packages (from python-dateutil>=2.7->matplotlib) (1.16.0)\n",
      "Downloading matplotlib-3.9.2-cp312-cp312-win_amd64.whl (7.8 MB)\n",
      "   ---------------------------------------- 0.0/7.8 MB ? eta -:--:--\n",
      "   - -------------------------------------- 0.3/7.8 MB 9.6 MB/s eta 0:00:01\n",
      "   ---- ----------------------------------- 0.8/7.8 MB 10.1 MB/s eta 0:00:01\n",
      "   ------- -------------------------------- 1.4/7.8 MB 11.4 MB/s eta 0:00:01\n",
      "   ----------- ---------------------------- 2.2/7.8 MB 12.7 MB/s eta 0:00:01\n",
      "   ---------------- ----------------------- 3.2/7.8 MB 14.7 MB/s eta 0:00:01\n",
      "   ---------------------- ----------------- 4.5/7.8 MB 16.8 MB/s eta 0:00:01\n",
      "   ------------------------------ --------- 6.1/7.8 MB 19.4 MB/s eta 0:00:01\n",
      "   ---------------------------------------  7.8/7.8 MB 21.8 MB/s eta 0:00:01\n",
      "   ---------------------------------------- 7.8/7.8 MB 20.9 MB/s eta 0:00:00\n",
      "Downloading contourpy-1.3.0-cp312-cp312-win_amd64.whl (218 kB)\n",
      "   ---------------------------------------- 0.0/218.3 kB ? eta -:--:--\n",
      "   ---------------------------------------- 218.3/218.3 kB ? eta 0:00:00\n",
      "Downloading cycler-0.12.1-py3-none-any.whl (8.3 kB)\n",
      "Downloading fonttools-4.54.1-cp312-cp312-win_amd64.whl (2.2 MB)\n",
      "   ---------------------------------------- 0.0/2.2 MB ? eta -:--:--\n",
      "   ------------------------------------ --- 2.0/2.2 MB 63.8 MB/s eta 0:00:01\n",
      "   ---------------------------------------- 2.2/2.2 MB 47.6 MB/s eta 0:00:00\n",
      "Downloading kiwisolver-1.4.7-cp312-cp312-win_amd64.whl (55 kB)\n",
      "   ---------------------------------------- 0.0/55.9 kB ? eta -:--:--\n",
      "   ---------------------------------------- 55.9/55.9 kB ? eta 0:00:00\n",
      "Downloading pillow-10.4.0-cp312-cp312-win_amd64.whl (2.6 MB)\n",
      "   ---------------------------------------- 0.0/2.6 MB ? eta -:--:--\n",
      "   ---------------------------------------  2.5/2.6 MB 54.0 MB/s eta 0:00:01\n",
      "   ---------------------------------------- 2.6/2.6 MB 54.1 MB/s eta 0:00:00\n",
      "Downloading pyparsing-3.1.4-py3-none-any.whl (104 kB)\n",
      "   ---------------------------------------- 0.0/104.1 kB ? eta -:--:--\n",
      "   ---------------------------------------- 104.1/104.1 kB 5.9 MB/s eta 0:00:00\n",
      "Installing collected packages: pyparsing, pillow, kiwisolver, fonttools, cycler, contourpy, matplotlib\n",
      "Successfully installed contourpy-1.3.0 cycler-0.12.1 fonttools-4.54.1 kiwisolver-1.4.7 matplotlib-3.9.2 pillow-10.4.0 pyparsing-3.1.4\n",
      "Note: you may need to restart the kernel to use updated packages.\n"
     ]
    },
    {
     "name": "stderr",
     "output_type": "stream",
     "text": [
      "  WARNING: The scripts fonttools.exe, pyftmerge.exe, pyftsubset.exe and ttx.exe are installed in 'c:\\Users\\seanp\\AppData\\Local\\Programs\\Python\\Python312\\Scripts' which is not on PATH.\n",
      "  Consider adding this directory to PATH or, if you prefer to suppress this warning, use --no-warn-script-location.\n",
      "\n",
      "[notice] A new release of pip is available: 23.2.1 -> 24.2\n",
      "[notice] To update, run: python.exe -m pip install --upgrade pip\n"
     ]
    }
   ],
   "source": [
    "# very important note - best practice is now the %pip install not !pip install bc % ensures it downloads into the venv ! just install it somewhere i guess\n",
    "%pip install numpy\n",
    "%pip install matplotlib"
   ]
  },
  {
   "cell_type": "code",
   "execution_count": 15,
   "metadata": {},
   "outputs": [],
   "source": [
    "import numpy as np\n",
    "import matplotlib.pyplot as plt\n",
    "import random"
   ]
  },
  {
   "cell_type": "code",
   "execution_count": 71,
   "metadata": {},
   "outputs": [],
   "source": [
    "def generate_X_2d(start =-1, stop=1, step=0.1, with_targets = True):\n",
    "    # returns a 2d mesh + an empty spot in each row or a random val\n",
    "    X = []\n",
    "    X1 = np.arange(start,stop+step,step)\n",
    "    if not with_targets:\n",
    "        for x1 in X1:\n",
    "            for x2 in X1:\n",
    "                X+=[x1,x2]\n",
    "        X = np.array(X).reshape(-1,2)\n",
    "        return X\n",
    "    for x1 in X1:\n",
    "        for x2 in X1:\n",
    "            X+=[x1,x2, (random.randrange(0,10,1))/10]\n",
    "    X = np.array(X).reshape(-1,3)\n",
    "    return X"
   ]
  },
  {
   "cell_type": "code",
   "execution_count": 47,
   "metadata": {},
   "outputs": [
    {
     "name": "stdout",
     "output_type": "stream",
     "text": [
      "[[-1.  -1.   0.1]\n",
      " [-1.  -0.9  0.1]\n",
      " [-1.  -0.8  0.9]\n",
      " ...\n",
      " [ 1.   0.8  0.9]\n",
      " [ 1.   0.9  0.9]\n",
      " [ 1.   1.   0.1]]\n",
      "[[0.1 0.1 0.9 0.3 0.6 0.4 0.9 0.4 0.3 0.8 0.6 0.  0.7 0.  0.7 0.9 0.5 0.2\n",
      "  0.4 0.2 0.9]\n",
      " [0.1 0.8 0.7 0.9 0.2 0.2 0.7 0.2 0.1 0.4 0.  0.4 0.5 0.1 0.8 0.2 0.9 0.9\n",
      "  0.3 0.  0.3]\n",
      " [0.6 0.3 0.3 0.4 0.6 0.8 0.5 0.8 0.7 0.5 0.3 0.5 0.3 0.1 0.2 0.3 0.4 0.8\n",
      "  0.8 0.5 0.8]\n",
      " [0.9 0.7 0.3 0.  0.6 0.2 0.7 0.3 0.8 0.9 0.9 0.8 0.6 0.8 0.2 0.5 0.  0.8\n",
      "  0.1 0.  0.1]\n",
      " [0.5 0.  0.7 0.4 0.8 0.4 0.3 0.1 0.7 0.7 0.4 0.1 0.7 0.5 0.8 0.9 0.4 0.6\n",
      "  0.6 0.9 0.1]\n",
      " [0.7 0.8 0.5 0.  0.4 0.7 0.6 0.1 0.3 0.4 0.4 0.9 0.2 0.8 0.8 0.1 0.3 0.3\n",
      "  0.9 0.3 0.3]\n",
      " [0.7 0.1 0.8 0.  0.7 0.8 0.1 0.6 0.2 0.6 0.2 0.1 0.8 0.8 0.6 0.8 0.6 0.4\n",
      "  0.  0.5 0.8]\n",
      " [0.6 0.1 0.7 0.9 0.1 0.8 0.3 0.4 0.2 0.  0.5 0.7 0.4 0.4 0.5 0.7 0.6 0.\n",
      "  0.5 0.7 0.2]\n",
      " [0.8 0.4 0.2 0.5 0.7 0.7 0.7 0.4 0.3 0.  0.4 0.5 0.4 0.9 0.7 0.3 0.4 0.8\n",
      "  0.4 0.6 0.2]\n",
      " [0.5 0.2 0.9 0.2 0.7 0.9 0.2 0.6 0.8 0.9 0.8 0.9 0.4 0.9 0.3 0.7 0.4 0.6\n",
      "  0.5 0.9 0.7]\n",
      " [0.9 0.4 0.6 0.6 0.6 0.9 0.7 0.2 0.5 0.5 0.6 0.8 0.4 0.  0.  0.4 0.8 0.6\n",
      "  0.7 0.3 0.1]\n",
      " [0.3 0.2 0.2 0.9 0.9 0.9 0.4 0.9 0.7 0.3 0.4 0.9 0.8 0.2 0.9 0.9 0.4 0.9\n",
      "  0.5 0.  0.3]\n",
      " [0.9 0.7 0.4 0.5 0.9 0.7 0.6 0.8 0.6 0.3 0.9 0.2 0.6 0.1 0.4 0.8 0.7 0.3\n",
      "  0.6 0.8 0.7]\n",
      " [0.  0.7 0.8 0.2 0.3 0.7 0.9 0.5 0.9 0.1 0.7 0.4 0.4 0.6 0.1 0.5 0.4 0.1\n",
      "  0.1 0.5 0.7]\n",
      " [0.5 0.6 0.5 0.5 0.3 0.5 0.9 0.2 0.9 0.2 0.6 0.3 0.3 0.7 0.1 0.7 0.7 0.4\n",
      "  0.7 0.7 0. ]\n",
      " [0.4 0.7 0.3 0.8 0.9 0.9 0.4 0.2 0.3 0.4 0.7 0.  0.9 0.4 0.  0.8 0.1 0.4\n",
      "  0.2 0.5 0.3]\n",
      " [0.9 0.4 0.4 0.8 0.6 0.4 0.7 0.2 0.2 0.9 0.4 0.1 0.2 0.3 0.1 0.4 0.7 0.5\n",
      "  0.6 0.9 0. ]\n",
      " [0.6 0.5 0.7 0.8 0.3 0.9 0.5 0.9 0.6 0.4 0.3 0.1 0.9 0.7 0.6 0.3 0.4 0.7\n",
      "  0.9 0.4 0.9]\n",
      " [0.9 0.9 0.3 0.1 0.7 0.3 0.8 0.9 0.9 0.4 0.6 0.5 0.3 0.6 0.7 0.4 0.6 0.3\n",
      "  0.  0.4 0.9]\n",
      " [0.7 0.5 0.7 0.4 0.2 0.2 0.7 0.8 0.  0.3 0.  0.6 0.5 0.1 0.  0.4 0.8 0.3\n",
      "  0.3 0.3 0.9]\n",
      " [0.7 0.4 0.7 0.7 0.7 0.1 0.5 0.7 0.8 0.8 0.4 0.  0.7 0.4 0.1 0.6 0.9 0.5\n",
      "  0.9 0.9 0.1]]\n"
     ]
    }
   ],
   "source": [
    "X = generate_X_2d()\n",
    "print(X)\n",
    "#print(X[:,2])\n",
    "print(X[:,2].reshape(21,21)) # this gives the random targets generated in the function\n"
   ]
  },
  {
   "cell_type": "markdown",
   "metadata": {},
   "source": [
    "below allows for the plotting of the targets, problem is it doens;t take the x1 or x2 values, it would be better if it did but ok for now"
   ]
  },
  {
   "cell_type": "code",
   "execution_count": 48,
   "metadata": {},
   "outputs": [
    {
     "data": {
      "text/plain": [
       "<matplotlib.image.AxesImage at 0x191511d04a0>"
      ]
     },
     "execution_count": 48,
     "metadata": {},
     "output_type": "execute_result"
    },
    {
     "data": {
      "image/png": "[encoded data removed]",
      "text/plain": [
       "<Figure size 640x480 with 1 Axes>"
      ]
     },
     "metadata": {},
     "output_type": "display_data"
    }
   ],
   "source": [
    "plt.imshow(X[:,2].reshape(21,21))\n"
   ]
  },
  {
   "cell_type": "markdown",
   "metadata": {},
   "source": [
    "\n",
    "ok so going back to this equation:\n",
    "![image](images\\multivariate_gaussian_euqation.png)"
   ]
  },
  {
   "cell_type": "code",
   "execution_count": 78,
   "metadata": {},
   "outputs": [
    {
     "name": "stdout",
     "output_type": "stream",
     "text": [
      "0.75\n",
      "[-2. -3.]\n",
      "None\n"
     ]
    }
   ],
   "source": [
    "X = generate_X_2d(with_targets=False)\n",
    "#print(X)\n",
    "pi = 3.1415 # might want this more accurate\n",
    "covar = [[1, 0.5],[0.5,1]] # choosing a small correlation\n",
    "M = [1,2] # choosing two means sort of randomly\n",
    "n = 2 # we are dealing with 2d\n",
    "det_covar = np.linalg.det(covar)\n",
    "inverse_covar = np.linalg.inv(covar)\n",
    "\n",
    "e = 2.7182818\n",
    "print(det_covar)\n",
    "\n",
    "## ok so the first part of the function is a constant lets call it k\n",
    "## finding k:\n",
    "k = (((2*pi)**(n/2))*((det_covar)**(1/2)))**-1\n",
    "\n",
    "x1 = X[0,0]\n",
    "x2 = X[0,1]\n",
    "x = [x1,x2]\n",
    "x_minus_M = print(np.subtract(x,M))\n",
    "print(x_minus_M)\n"
   ]
  },
  {
   "cell_type": "code",
   "execution_count": null,
   "metadata": {},
   "outputs": [],
   "source": [
    "\n",
    "print(k)\n",
    "for x1,x2 in X:\n",
    "    \n",
    "    prob_dist += k*(e**(-0.5([])))\n",
    "    break\n",
    "    "
   ]
  },
  {
   "cell_type": "code",
   "execution_count": null,
   "metadata": {},
   "outputs": [],
   "source": []
  }
 ],
 "metadata": {
  "kernelspec": {
   "display_name": "Python 3",
   "language": "python",
   "name": "python3"
  },
  "language_info": {
   "codemirror_mode": {
    "name": "ipython",
    "version": 3
   },
   "file_extension": ".py",
   "mimetype": "text/x-python",
   "name": "python",
   "nbconvert_exporter": "python",
   "pygments_lexer": "ipython3",
   "version": "3.12.0"
  }
 },
 "nbformat": 4,
 "nbformat_minor": 2
}
