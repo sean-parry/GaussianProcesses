{
 "cells": [
  {
   "cell_type": "code",
   "execution_count": null,
   "metadata": {},
   "outputs": [],
   "source": [
    "# gaussian processes probably 1 dim to start off with"
   ]
  },
  {
   "cell_type": "code",
   "execution_count": 2,
   "metadata": {},
   "outputs": [],
   "source": [
    "%%capture output\n",
    "%pip install numpy\n",
    "%pip install matplotlib\n",
    "%pip install math"
   ]
  },
  {
   "cell_type": "code",
   "execution_count": 1,
   "metadata": {},
   "outputs": [],
   "source": [
    "import numpy as np\n",
    "import math\n",
    "import matplotlib.pyplot as plt"
   ]
  },
  {
   "cell_type": "code",
   "execution_count": 46,
   "metadata": {},
   "outputs": [
    {
     "data": {
      "image/png": "[encoded data removed]",
      "text/plain": [
       "<Figure size 640x480 with 1 Axes>"
      ]
     },
     "metadata": {},
     "output_type": "display_data"
    }
   ],
   "source": [
    "def some_unknown_function(X):\n",
    "    return np.sin(X)\n",
    "    return [math.sin(x) for x in X]\n",
    "\n",
    "def check_dist(X):\n",
    "    plt.plot(X,some_unknown_function(X),'o')\n",
    "    return\n",
    "\n",
    "X = np.random.rand(20)*2*(math.pi)\n",
    "y = some_unknown_function(X)\n",
    "check_dist(X)"
   ]
  },
  {
   "cell_type": "markdown",
   "metadata": {},
   "source": [
    "ok so i need ot work out some mean function m inbetween the bounds (0-2pi) then choose a kernel function or distribution of kernel functions that can be sampled from? use that to make the covar matrix, then i think there is some build in thing that save me reading through 4 pages of equations to get the the solution??? idk"
   ]
  },
  {
   "cell_type": "code",
   "execution_count": 76,
   "metadata": {},
   "outputs": [
    {
     "name": "stdout",
     "output_type": "stream",
     "text": [
      "(3, 2)\n",
      "[[1.         1.         0.13533528]\n",
      " [1.         1.         0.13533528]\n",
      " [0.13533528 0.13533528 1.        ]]\n",
      "[[1.00000000e+00 3.67879441e-01 1.38879439e-11]\n",
      " [3.67879441e-01 1.00000000e+00 2.31952283e-16]\n",
      " [1.38879439e-11 2.31952283e-16 1.00000000e+00]]\n"
     ]
    },
    {
     "data": {
      "text/plain": [
       "'X = np.random.rand(20)*2*(math.pi)\\ny = some_unknown_function(X)\\nans = gauss_corr([1,1],[2,1],[3,4])\\n\\nprint(ans)'"
      ]
     },
     "execution_count": 76,
     "metadata": {},
     "output_type": "execute_result"
    }
   ],
   "source": [
    "# could i guess make this first funciton private as\n",
    "# it is only meant to be accessed by the handler\n",
    "\n",
    "# max corr from this is 1 so s.d vector * gauss_corr\n",
    "# to get the covar matrix\n",
    "def gauss_corr(theta_vec, a_vec, b_vec):\n",
    "    # a and b are points they could be scalar or vector\n",
    "    exponent = 0\n",
    "    for theta,a,b in zip(theta_vec,a_vec, b_vec):\n",
    "        exponent += -theta*(a-b)**2\n",
    "        \n",
    "    return (math.e)**exponent\n",
    "\n",
    "#this sends of x1x1 x1x2 and so on to the guass_corr calc\n",
    "# for 1 input x this isn't all that important but higher dims\n",
    "# will benifit from this expected form [[x1,x2],[x1,x2]]\n",
    "def gauss_corr_handler(theta_vec, X):\n",
    "    R = []\n",
    "    X = np.array(X)\n",
    "    X_shape = (X.shape)[0]\n",
    "    R = np.zeros((X_shape,X_shape))\n",
    "    for i, x_vec_1 in enumerate(X):\n",
    "        for j, x_vec_2 in enumerate(X):\n",
    "            R[i][j] = gauss_corr(theta_vec,x_vec_1,x_vec_2)\n",
    "    return R\n",
    "\n",
    "#form [[x1,x2],[x1,x2]]\n",
    "# I think the first vector would be referred to as X1\n",
    "X = [[1,1],[1,1],[2,2]]\n",
    "X = np.array(X)\n",
    "print(X.shape)\n",
    "theta_vec = [1,1]\n",
    "R = gauss_corr_handler(theta_vec, X)\n",
    "# this output looks correct which is good\n",
    "# using identical x vals give a load of\n",
    "# ones which is the expected behaviour ...\n",
    "print(R)\n",
    "\n",
    "# just checking it can also deal with single dims:\n",
    "X_test = [[1],[0],[6]]\n",
    "print(gauss_corr_handler([1],X_test))\n",
    "# good still works with this as well so functions are ok\n",
    "\n"
   ]
  },
  {
   "cell_type": "code",
   "execution_count": 107,
   "metadata": {},
   "outputs": [
    {
     "data": {
      "text/plain": [
       "<matplotlib.image.AxesImage at 0x7ea2af766930>"
      ]
     },
     "execution_count": 107,
     "metadata": {},
     "output_type": "execute_result"
    },
    {
     "data": {
      "image/png": "[encoded data removed]",
      "text/plain": [
       "<Figure size 640x480 with 1 Axes>"
      ]
     },
     "metadata": {},
     "output_type": "display_data"
    }
   ],
   "source": [
    "\n",
    "X = np.random.rand(20)*2*(math.pi)\n",
    "# makes X the correct shape for the handler\n",
    "# altho if x goes up in dims this is going to cause issues\n",
    "# should be (-1,) but then my iterator won't work\n",
    "X = X.reshape(-1,1)\n",
    "y = some_unknown_function(X)\n",
    "R = gauss_corr_handler([1],X)\n",
    "plt.imshow(R)"
   ]
  },
  {
   "cell_type": "markdown",
   "metadata": {},
   "source": [
    "Judging off of the above plot everything is scaling properly into higher dimensions, just need to figure out the rest of the maths\n",
    "\n",
    "I think i could make predictions for a set of values linearly spaced out froim 0-2pi and use this to make a line of best fit\n",
    "I'm just not 100% sure how to make prediciotns at the moment\n",
    "\n",
    "Also is the above literally what the spearman corr coefficient is??? - actually it can't be bc spearman is relating the inputs to one output value right?\n",
    "\n",
    "I was using this for the two code blocks above btw (https://cran.r-project.org/web/packages/GauPro/vignettes/IntroductionToGPs.html#:~:text=The%20mean%20function%20can%20be,usually%20estimated%20using%20the%20data. ) "
   ]
  },
  {
   "cell_type": "markdown",
   "metadata": {},
   "source": [
    "# problem\n",
    "Its great that i have the correlation between the inputs but how does this relate to the outputs or anything i actually wnat to work out in the target dist?"
   ]
  },
  {
   "cell_type": "code",
   "execution_count": 118,
   "metadata": {},
   "outputs": [
    {
     "name": "stdout",
     "output_type": "stream",
     "text": [
      "(20, 20) (20, 20)\n",
      "(20, 20)\n",
      "(20,)\n",
      "(20,)\n",
      "[ 3.50579226e+15  1.17225524e+15 -4.01303944e+14 -3.94597806e+14\n",
      "  6.68379325e+14  2.12971787e+14 -2.35089052e+15 -3.12580514e+14\n",
      " -1.80258062e+15 -6.73498464e+14 -1.52252881e+14  4.97670200e+14\n",
      "  1.85750307e+17 -1.14517707e+20  3.16453588e+17  3.07934148e+15\n",
      "  3.53747563e+14  4.89901563e+14  3.25065037e+14 -5.18498659e+14]\n"
     ]
    }
   ],
   "source": [
    "# ok so now we want to find M which for this case should be \n",
    "# n*1 bc our output dimension is one and we have n inputs\n",
    "\n",
    "\n",
    "# R needs to be multiplited by some s_d vector i'm going to\n",
    "# just use ones but this is a hyperparam that should be tuned\n",
    "R = np.array(R)\n",
    "# ok i don't know if s_d should be a vector that i then square\n",
    "# to get an n by n var matrix, but then surely that would \n",
    "#throw off the correlation matrix and mess stuff up vs just a\n",
    "# single scalar which makes way more sense in terms of the matrix maths\n",
    "\n",
    "s_d = 0.01\n",
    "sigma_matrix = R*s_d\n",
    "print(R.shape,sigma_matrix.shape)\n",
    "#uses a 1 by n vector:\n",
    "one_n = np.ones((sigma_matrix.shape)[0])\n",
    "# odn't put -1,1 leave second one black otherwise a lot of mat\n",
    "# maths in numpy doesn't work\n",
    "one_n_transpose = one_n.reshape(-1,)\n",
    "sigma_matrix_inv = np.linalg.inv(sigma_matrix)\n",
    "print(sigma_matrix_inv.shape)\n",
    "print(one_n_transpose.shape)\n",
    "\n",
    "# print below showd that the above code is correct\n",
    "# print(one_n ,one_n_transpose)\n",
    "y = y.reshape(-1,)\n",
    "print(y.shape)\n",
    "# a/b = a*(b**-1)\n",
    "\n",
    "M_denom = np.matmul(one_n_transpose,sigma_matrix_inv,one_n)\n",
    "try:\n",
    "    M_denom_inv = np.linalg.inv(M_denom)\n",
    "    M_hat = np.matmul(one_n_transpose,sigma_matrix_inv,y,M_denom)\n",
    "#in this case M_denom is a constant bc one var so its errors\n",
    "# if i try to inverse it\n",
    "except:\n",
    "    M_hat = np.matmul(one_n_transpose,sigma_matrix_inv,y)/M_denom\n",
    "\n",
    "# the values of M_hat are way too big idk if this is an issue\n",
    "# with my heyperparameter selection, or whether it is something \n",
    "# else like my maths actually being wrong\n",
    "print(M_hat)\n"
   ]
  },
  {
   "cell_type": "code",
   "execution_count": 119,
   "metadata": {},
   "outputs": [
    {
     "data": {
      "text/plain": [
       "[<matplotlib.lines.Line2D at 0x7ea2afd47680>]"
      ]
     },
     "execution_count": 119,
     "metadata": {},
     "output_type": "execute_result"
    },
    {
     "data": {
      "image/png": "[encoded data removed]",
      "text/plain": [
       "<Figure size 640x480 with 1 Axes>"
      ]
     },
     "metadata": {},
     "output_type": "display_data"
    }
   ],
   "source": [
    "# also getting weird plots on X, y which is fine above\n",
    "# i guess i have messed up the dimensions\n",
    "plt.plot(X,y,'o')\n"
   ]
  }
 ],
 "metadata": {
  "kernelspec": {
   "display_name": ".venv",
   "language": "python",
   "name": "python3"
  },
  "language_info": {
   "codemirror_mode": {
    "name": "ipython",
    "version": 3
   },
   "file_extension": ".py",
   "mimetype": "text/x-python",
   "name": "python",
   "nbconvert_exporter": "python",
   "pygments_lexer": "ipython3",
   "version": "3.12.3"
  }
 },
 "nbformat": 4,
 "nbformat_minor": 2
}
