{
 "cells": [
  {
   "cell_type": "code",
   "execution_count": 2,
   "metadata": {},
   "outputs": [],
   "source": [
    "# gaussian processes probably 1 dim to start off with"
   ]
  },
  {
   "cell_type": "code",
   "execution_count": 3,
   "metadata": {},
   "outputs": [],
   "source": [
    "%%capture output\n",
    "%pip install numpy\n",
    "%pip install matplotlib\n",
    "%pip install math"
   ]
  },
  {
   "cell_type": "code",
   "execution_count": 4,
   "metadata": {},
   "outputs": [],
   "source": [
    "import numpy as np\n",
    "import math\n",
    "import matplotlib.pyplot as plt"
   ]
  },
  {
   "cell_type": "code",
   "execution_count": 5,
   "metadata": {},
   "outputs": [
    {
     "data": {
      "image/png": "[encoded data removed]",
      "text/plain": [
       "<Figure size 640x480 with 1 Axes>"
      ]
     },
     "metadata": {},
     "output_type": "display_data"
    }
   ],
   "source": [
    "def some_unknown_function(X):\n",
    "    return np.sin(X)\n",
    "    return [math.sin(x) for x in X]\n",
    "\n",
    "def check_dist(X):\n",
    "    plt.plot(X,some_unknown_function(X),'o')\n",
    "    return\n",
    "\n",
    "X = np.random.rand(20)*2*(math.pi)\n",
    "y = some_unknown_function(X)\n",
    "check_dist(X)"
   ]
  },
  {
   "cell_type": "markdown",
   "metadata": {},
   "source": [
    "ok so i need ot work out some mean function m inbetween the bounds (0-2pi) then choose a kernel function or distribution of kernel functions that can be sampled from? use that to make the covar matrix, then i think there is some build in thing that save me reading through 4 pages of equations to get the the solution??? idk"
   ]
  },
  {
   "cell_type": "code",
   "execution_count": 10,
   "metadata": {},
   "outputs": [
    {
     "name": "stdout",
     "output_type": "stream",
     "text": [
      "(3, 2)\n",
      "[[1.         1.         0.90483742]\n",
      " [1.         1.         0.90483742]\n",
      " [0.90483742 0.90483742 1.        ]]\n",
      "[[1.         0.95122942 0.2865048 ]\n",
      " [0.95122942 1.         0.16529889]\n",
      " [0.2865048  0.16529889 1.        ]]\n"
     ]
    }
   ],
   "source": [
    "# could i guess make this first funciton private as\n",
    "# it is only meant to be accessed by the handler\n",
    "\n",
    "# max corr from this is 1 so s.d vector * gauss_corr\n",
    "# to get the covar matrix\n",
    "def gauss_corr(l, a_vec, b_vec):\n",
    "    # a and b are points they could be scalar or vector\n",
    "    exponent = 0\n",
    "    for a,b in zip(a_vec, b_vec):\n",
    "        exponent += -(1/2*l)*(a-b)**2\n",
    "        \n",
    "    return (math.e)**exponent\n",
    "\n",
    "#this sends of x1x1 x1x2 and so on to the guass_corr calc\n",
    "# for 1 input x this isn't all that important but higher dims\n",
    "# will benifit from this expected form [[x1,x2],[x1,x2]]\n",
    "def gauss_corr_handler(X, l=0.1):\n",
    "    R = []\n",
    "    X = np.array(X)\n",
    "    X_shape = (X.shape)[0]\n",
    "    R = np.zeros((X_shape,X_shape))\n",
    "    for i, x_vec_1 in enumerate(X):\n",
    "        for j, x_vec_2 in enumerate(X):\n",
    "            R[i][j] = gauss_corr(l,x_vec_1,x_vec_2)\n",
    "    return R\n",
    "\n",
    "#form [[x1,x2],[x1,x2]]\n",
    "# I think the first vector would be referred to as X1\n",
    "X = [[1,1],[1,1],[2,2]]\n",
    "X = np.array(X)\n",
    "print(X.shape)\n",
    "theta_vec = [1,1]\n",
    "R = gauss_corr_handler(X)\n",
    "# this output looks correct which is good\n",
    "# using identical x vals give a load of\n",
    "# ones which is the expected behaviour ...\n",
    "print(R)\n",
    "\n",
    "# just checking it can also deal with single dims:\n",
    "X_test = [[1],[0],[6]]\n",
    "print(gauss_corr_handler(X_test))\n",
    "# good still works with this as well so functions are ok\n",
    "\n"
   ]
  },
  {
   "cell_type": "code",
   "execution_count": 7,
   "metadata": {},
   "outputs": [
    {
     "data": {
      "text/plain": [
       "<matplotlib.image.AxesImage at 0x28586017fb0>"
      ]
     },
     "execution_count": 7,
     "metadata": {},
     "output_type": "execute_result"
    },
    {
     "data": {
      "image/png": "[encoded data removed]",
      "text/plain": [
       "<Figure size 640x480 with 1 Axes>"
      ]
     },
     "metadata": {},
     "output_type": "display_data"
    }
   ],
   "source": [
    "\n",
    "X = np.random.rand(20)*2*(math.pi)\n",
    "# makes X the correct shape for the handler\n",
    "# altho if x goes up in dims this is going to cause issues\n",
    "# should be (-1,) but then my iterator won't work\n",
    "X = X.reshape(-1,1)\n",
    "y = some_unknown_function(X)\n",
    "R = gauss_corr_handler([0.1],X)\n",
    "plt.imshow(R)"
   ]
  },
  {
   "cell_type": "markdown",
   "metadata": {},
   "source": [
    "Judging off of the above plot everything is scaling properly into higher dimensions, just need to figure out the rest of the maths\n",
    "\n",
    "I think i could make predictions for a set of values linearly spaced out froim 0-2pi and use this to make a line of best fit\n",
    "I'm just not 100% sure how to make prediciotns at the moment\n",
    "\n",
    "Also is the above literally what the spearman corr coefficient is??? - actually it can't be bc spearman is relating the inputs to one output value right?\n",
    "\n",
    "I was using this for the two code blocks above btw (https://cran.r-project.org/web/packages/GauPro/vignettes/IntroductionToGPs.html#:~:text=The%20mean%20function%20can%20be,usually%20estimated%20using%20the%20data. ) "
   ]
  },
  {
   "cell_type": "markdown",
   "metadata": {},
   "source": [
    "# problem\n",
    "Its great that i have the correlation between the inputs but how does this relate to the outputs or anything i actually wnat to work out in the target dist?"
   ]
  },
  {
   "cell_type": "code",
   "execution_count": 8,
   "metadata": {},
   "outputs": [
    {
     "name": "stdout",
     "output_type": "stream",
     "text": [
      "(20, 20) (20, 20)\n",
      "(20, 20)\n",
      "(20,)\n",
      "(20,)\n",
      "[-4.64279224e+18 -4.16842696e+18 -2.54522703e+19 -3.32125313e+18\n",
      " -1.60522353e+18 -1.80988471e+18 -7.40398037e+18  4.27784816e+18\n",
      " -3.45042244e+18 -5.16734631e+18 -9.07716976e+18 -5.22479947e+18\n",
      " -5.30626223e+17 -5.90506344e+18 -3.50821070e+18  2.42702311e+17\n",
      " -7.20458467e+18  5.44694458e+17  7.89917991e+17 -3.64074237e+18]\n"
     ]
    }
   ],
   "source": [
    "# ok so now we want to find M which for this case should be \n",
    "# n*1 bc our output dimension is one and we have n inputs\n",
    "\n",
    "\n",
    "# R needs to be multiplited by some s_d vector i'm going to\n",
    "# just use ones but this is a hyperparam that should be tuned\n",
    "R = np.array(R)\n",
    "# ok i don't know if s_d should be a vector that i then square\n",
    "# to get an n by n var matrix, but then surely that would \n",
    "#throw off the correlation matrix and mess stuff up vs just a\n",
    "# single scalar which makes way more sense in terms of the matrix maths\n",
    "\n",
    "s_d = 0.01\n",
    "sigma_matrix = R*s_d\n",
    "print(R.shape,sigma_matrix.shape)\n",
    "#uses a 1 by n vector:\n",
    "one_n = np.ones((sigma_matrix.shape)[0])\n",
    "# odn't put -1,1 leave second one black otherwise a lot of mat\n",
    "# maths in numpy doesn't work\n",
    "one_n_transpose = one_n.reshape(-1,)\n",
    "sigma_matrix_inv = np.linalg.inv(sigma_matrix)\n",
    "print(sigma_matrix_inv.shape)\n",
    "print(one_n_transpose.shape)\n",
    "\n",
    "# print below showd that the above code is correct\n",
    "# print(one_n ,one_n_transpose)\n",
    "y = y.reshape(-1,)\n",
    "print(y.shape)\n",
    "# a/b = a*(b**-1)\n",
    "\n",
    "M_denom = np.matmul(one_n_transpose,sigma_matrix_inv,one_n)\n",
    "try:\n",
    "    M_denom_inv = np.linalg.inv(M_denom)\n",
    "    M_hat = np.matmul(one_n_transpose,sigma_matrix_inv,y,M_denom)\n",
    "#in this case M_denom is a constant bc one var so its errors\n",
    "# if i try to inverse it\n",
    "except:\n",
    "    M_hat = np.matmul(one_n_transpose,sigma_matrix_inv,y)/M_denom\n",
    "\n",
    "# the values of M_hat are way too big idk if this is an issue\n",
    "# with my heyperparameter selection, or whether it is something \n",
    "# else like my maths actually being wrong\n",
    "print(M_hat)\n"
   ]
  },
  {
   "cell_type": "code",
   "execution_count": 9,
   "metadata": {},
   "outputs": [
    {
     "data": {
      "text/plain": [
       "[<matplotlib.lines.Line2D at 0x2858946bf50>]"
      ]
     },
     "execution_count": 9,
     "metadata": {},
     "output_type": "execute_result"
    },
    {
     "data": {
      "image/png": "[encoded data removed]",
      "text/plain": [
       "<Figure size 640x480 with 1 Axes>"
      ]
     },
     "metadata": {},
     "output_type": "display_data"
    }
   ],
   "source": [
    "# also getting weird plots on X, y which is fine above\n",
    "# i guess i have messed up the dimensions\n",
    "plt.plot(X,y,'o')\n"
   ]
  }
 ],
 "metadata": {
  "kernelspec": {
   "display_name": ".venv",
   "language": "python",
   "name": "python3"
  },
  "language_info": {
   "codemirror_mode": {
    "name": "ipython",
    "version": 3
   },
   "file_extension": ".py",
   "mimetype": "text/x-python",
   "name": "python",
   "nbconvert_exporter": "python",
   "pygments_lexer": "ipython3",
   "version": "3.12.0"
  }
 },
 "nbformat": 4,
 "nbformat_minor": 2
}
