{
 "cells": [
  {
   "cell_type": "code",
   "execution_count": null,
   "metadata": {},
   "outputs": [],
   "source": [
    "# gaussian processes probably 1 dim to start off with"
   ]
  },
  {
   "cell_type": "code",
   "execution_count": 2,
   "metadata": {},
   "outputs": [],
   "source": [
    "%%capture output\n",
    "%pip install numpy\n",
    "%pip install matplotlib\n",
    "%pip install math"
   ]
  },
  {
   "cell_type": "code",
   "execution_count": 1,
   "metadata": {},
   "outputs": [],
   "source": [
    "import numpy as np\n",
    "import math\n",
    "import matplotlib.pyplot as plt"
   ]
  },
  {
   "cell_type": "code",
   "execution_count": 46,
   "metadata": {},
   "outputs": [
    {
     "data": {
      "image/png": "[encoded data removed]",
      "text/plain": [
       "<Figure size 640x480 with 1 Axes>"
      ]
     },
     "metadata": {},
     "output_type": "display_data"
    }
   ],
   "source": [
    "def some_unknown_function(X):\n",
    "    return np.sin(X)\n",
    "    return [math.sin(x) for x in X]\n",
    "\n",
    "def check_dist(X):\n",
    "    plt.plot(X,some_unknown_function(X),'o')\n",
    "    return\n",
    "\n",
    "X = np.random.rand(20)*2*(math.pi)\n",
    "y = some_unknown_function(X)\n",
    "check_dist(X)"
   ]
  },
  {
   "cell_type": "markdown",
   "metadata": {},
   "source": [
    "ok so i need ot work out some mean function m inbetween the bounds (0-2pi) then choose a kernel function or distribution of kernel functions that can be sampled from? use that to make the covar matrix, then i think there is some build in thing that save me reading through 4 pages of equations to get the the solution??? idk"
   ]
  },
  {
   "cell_type": "code",
   "execution_count": 75,
   "metadata": {},
   "outputs": [
    {
     "name": "stdout",
     "output_type": "stream",
     "text": [
      "(3, 2)\n",
      "[[1.         1.         0.13533528]\n",
      " [1.         1.         0.13533528]\n",
      " [0.13533528 0.13533528 1.        ]]\n"
     ]
    },
    {
     "data": {
      "text/plain": [
       "'X = np.random.rand(20)*2*(math.pi)\\ny = some_unknown_function(X)\\nans = gauss_corr([1,1],[2,1],[3,4])\\n\\nprint(ans)'"
      ]
     },
     "execution_count": 75,
     "metadata": {},
     "output_type": "execute_result"
    }
   ],
   "source": [
    "# max corr from this is 1 so s.d vector * gauss_corr\n",
    "# to get the covar matrix\n",
    "def gauss_corr(theta_vec, a_vec, b_vec):\n",
    "    # a and b are points they could be scalar or vector\n",
    "    exponent = 0\n",
    "    for theta,a,b in zip(theta_vec,a_vec, b_vec):\n",
    "        exponent += -theta*(a-b)**2\n",
    "        \n",
    "    return (math.e)**exponent\n",
    "\n",
    "#this sends of x1x1 x1x2 and so on to the guass_corr calc\n",
    "# for 1 input x this isn't all that important but higher dims\n",
    "def gauss_corr_handler(theta_vec, X):\n",
    "    R = []\n",
    "    X = np.array(X)\n",
    "    X_shape = (X.shape)[0]\n",
    "    R = np.zeros((X_shape,X_shape))\n",
    "    for i, x_vec_1 in enumerate(X):\n",
    "        for j, x_vec_2 in enumerate(X):\n",
    "            R[i][j] = gauss_corr(theta_vec,x_vec_1,x_vec_2)\n",
    "    return R\n",
    "\n",
    "#form [[x1,x2],[x1,x2]]\n",
    "# I think the first vector would be referred to as X1\n",
    "X = [[1,1],[1,1],[2,2]]\n",
    "X = np.array(X)\n",
    "print(X.shape)\n",
    "theta_vec = [1,1]\n",
    "R = gauss_corr_handler(theta_vec, X)\n",
    "# this output looks correct which is good\n",
    "# using identical x vals give a load of\n",
    "# ones which is the expected behaviour ...\n",
    "print(R)\n",
    "\n",
    "\n",
    "'''X = np.random.rand(20)*2*(math.pi)\n",
    "y = some_unknown_function(X)\n",
    "ans = gauss_corr([1,1],[2,1],[3,4])\n",
    "\n",
    "print(ans)'''"
   ]
  }
 ],
 "metadata": {
  "kernelspec": {
   "display_name": ".venv",
   "language": "python",
   "name": "python3"
  },
  "language_info": {
   "codemirror_mode": {
    "name": "ipython",
    "version": 3
   },
   "file_extension": ".py",
   "mimetype": "text/x-python",
   "name": "python",
   "nbconvert_exporter": "python",
   "pygments_lexer": "ipython3",
   "version": "3.12.3"
  }
 },
 "nbformat": 4,
 "nbformat_minor": 2
}
